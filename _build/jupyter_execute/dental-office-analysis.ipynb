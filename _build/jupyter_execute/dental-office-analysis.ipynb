{
 "cells": [
  {
   "cell_type": "markdown",
   "metadata": {
    "id": "w34dZ85iUaax"
   },
   "source": [
    "[![resume](./logo.png)](https://kind-stone-04621511e.1.azurestaticapps.net/)\n",
    "# Dental Office 🦷🪥\n",
    "> Business Analysis 📈\n",
    "\n",
    "I'd like to say that for the last two years, I've been freelance working in a dental office. I really didn't study any similar to it. I have no practical knowledge on, notwithstanding I have taken part in `managing data`. In other words, I know we should take care of patients data and manipulate it wisely. Process, understand and interpret data is important in the `decision-making process` so we can know who is visiting us and measure the impact it generates on business profits. \n",
    "\n",
    "\n",
    "## Data source📔    \n",
    "The database that we query in this analysis is temporarily hosted on an Azure IaaS service, specifically Azure Data Base for PostgreSQL, so if you try to connect to it, you won't have access given that the information is sensitive and must be protected."
   ]
  },
  {
   "cell_type": "markdown",
   "metadata": {
    "id": "DhKG8IX4UfbM"
   },
   "source": [
    "![img](https://i.ibb.co/7phWSrF/Recurso-2.png)"
   ]
  },
  {
   "cell_type": "markdown",
   "metadata": {
    "id": "uzabVq4ZHM92"
   },
   "source": [
    "## Connect DataBase/Python \n",
    "\n",
    "`Psycopg` is the most popular PostgreSQL database adapter for python and all we need to do is `import psycopg2` instantiate `connect` and indicate server-general information easily obtained from azure."
   ]
  },
  {
   "cell_type": "code",
   "execution_count": 1,
   "metadata": {
    "colab": {
     "base_uri": "https://localhost:8080/"
    },
    "id": "aVmUu3T0TwWY",
    "outputId": "8b6c981e-ec4e-4eaa-b206-50c67a19000e"
   },
   "outputs": [],
   "source": [
    "#We'll use pandas and numpy for data manipulation\n",
    "import pandas as pd\n",
    "import numpy as np\n",
    "#We use seaborn and matplotlib to plot the data\n",
    "import seaborn as sns\n",
    "import matplotlib.pyplot as plt \n",
    "#Library to connect with postgresql\n",
    "import psycopg2\n",
    "\n",
    "#Establish connection with server adminsql@az-postgresql-server host on azure as IaaS\n",
    "conn_sql = psycopg2.connect(user = \"adminsql@az-postgresql-server\",\n",
    "                            password = \"CEdndm1246\",\n",
    "                            host = \"az-postgresql-server.postgres.database.azure.com\",\n",
    "                            port = \"5432\",\n",
    "                            database = \"postgres\")"
   ]
  },
  {
   "cell_type": "markdown",
   "metadata": {
    "id": "ABmwv8DZHeDC"
   },
   "source": [
    "## Database Query\n",
    "The database is made up of eleven tables, however, only three are dependent and the remaining eight are independent, which means that it is a low-complexity database where the patient table is connected to the treatment table through the transition table patient_treatment and that's it, as shown below the query indicates the type of `JOIN` and the aliases given to each column.## Database Query\n",
    "The database is made up of eleven tables, however, only three are dependent and the remaining eight are independent, which means that it is a low-complexity database where the patient table is connected to the treatment table through the transition table patient_treatment and that's it, as shown below the query indicates the type of `JOIN` and the aliases given to each column."
   ]
  },
  {
   "cell_type": "code",
   "execution_count": 2,
   "metadata": {
    "colab": {
     "base_uri": "https://localhost:8080/",
     "height": 653
    },
    "id": "_81YXgMuTzHX",
    "outputId": "5369daa0-abc4-43e6-f22d-d78b8648718b"
   },
   "outputs": [
    {
     "name": "stderr",
     "output_type": "stream",
     "text": [
      "/home/danmuner/packages/anaconda3/lib/python3.9/site-packages/pandas/io/sql.py:761: UserWarning: pandas only support SQLAlchemy connectable(engine/connection) ordatabase string URI or sqlite3 DBAPI2 connectionother DBAPI2 objects are not tested, please consider using SQLAlchemy\n",
      "  warnings.warn(\n"
     ]
    },
    {
     "data": {
      "text/html": [
       "<div>\n",
       "<style scoped>\n",
       "    .dataframe tbody tr th:only-of-type {\n",
       "        vertical-align: middle;\n",
       "    }\n",
       "\n",
       "    .dataframe tbody tr th {\n",
       "        vertical-align: top;\n",
       "    }\n",
       "\n",
       "    .dataframe thead th {\n",
       "        text-align: right;\n",
       "    }\n",
       "</style>\n",
       "<table border=\"1\" class=\"dataframe\">\n",
       "  <thead>\n",
       "    <tr style=\"text-align: right;\">\n",
       "      <th></th>\n",
       "      <th>appointment day</th>\n",
       "      <th>appointment hour</th>\n",
       "      <th>patient name</th>\n",
       "      <th>type of id</th>\n",
       "      <th>id-document-issuance</th>\n",
       "      <th>birthday</th>\n",
       "      <th>genre</th>\n",
       "      <th>healthcare facility</th>\n",
       "      <th>occupation</th>\n",
       "      <th>oral hygiene</th>\n",
       "      <th>brushing</th>\n",
       "      <th>smoker</th>\n",
       "      <th>floss usage</th>\n",
       "      <th>alcoholic</th>\n",
       "      <th>dental-procedure</th>\n",
       "      <th>payment method</th>\n",
       "      <th>cost</th>\n",
       "      <th>dental-materials-cost</th>\n",
       "      <th>procedure-status</th>\n",
       "      <th>age</th>\n",
       "    </tr>\n",
       "  </thead>\n",
       "  <tbody>\n",
       "    <tr>\n",
       "      <th>100</th>\n",
       "      <td>2021-07-26</td>\n",
       "      <td>16:14:00</td>\n",
       "      <td>olga</td>\n",
       "      <td>cc</td>\n",
       "      <td>bogota</td>\n",
       "      <td>1977-03-19</td>\n",
       "      <td>femenino</td>\n",
       "      <td>famisanar</td>\n",
       "      <td>empleado</td>\n",
       "      <td>beuna</td>\n",
       "      <td>2.0</td>\n",
       "      <td>non</td>\n",
       "      <td>None</td>\n",
       "      <td>None</td>\n",
       "      <td>resina u obturacion ii sup</td>\n",
       "      <td>efectivo</td>\n",
       "      <td>130000.0</td>\n",
       "      <td>11161.0</td>\n",
       "      <td>t</td>\n",
       "      <td>45.0</td>\n",
       "    </tr>\n",
       "    <tr>\n",
       "      <th>205</th>\n",
       "      <td>2021-10-30</td>\n",
       "      <td>12:00:00</td>\n",
       "      <td>ibeth</td>\n",
       "      <td>cc</td>\n",
       "      <td>bolivar</td>\n",
       "      <td>1967-12-08</td>\n",
       "      <td>femenino</td>\n",
       "      <td>compensar</td>\n",
       "      <td>ama de casa</td>\n",
       "      <td>buena</td>\n",
       "      <td>2.0</td>\n",
       "      <td>no</td>\n",
       "      <td>NO</td>\n",
       "      <td>no</td>\n",
       "      <td>protesis convensional biodent parcial</td>\n",
       "      <td>efectivo</td>\n",
       "      <td>140000.0</td>\n",
       "      <td>8012.0</td>\n",
       "      <td>t</td>\n",
       "      <td>54.0</td>\n",
       "    </tr>\n",
       "    <tr>\n",
       "      <th>423</th>\n",
       "      <td>2022-02-25</td>\n",
       "      <td>07:42:00</td>\n",
       "      <td>claudia</td>\n",
       "      <td>cc</td>\n",
       "      <td>gachala</td>\n",
       "      <td>1978-05-01</td>\n",
       "      <td>femenino</td>\n",
       "      <td>compensar</td>\n",
       "      <td>empleado</td>\n",
       "      <td>buena</td>\n",
       "      <td>NaN</td>\n",
       "      <td>no</td>\n",
       "      <td>SI</td>\n",
       "      <td>no</td>\n",
       "      <td>resina de angulo</td>\n",
       "      <td>efectivo</td>\n",
       "      <td>100000.0</td>\n",
       "      <td>11161.0</td>\n",
       "      <td>t</td>\n",
       "      <td>44.0</td>\n",
       "    </tr>\n",
       "    <tr>\n",
       "      <th>63</th>\n",
       "      <td>2021-06-23</td>\n",
       "      <td>11:34:00</td>\n",
       "      <td>sergio</td>\n",
       "      <td>cc</td>\n",
       "      <td>bogota</td>\n",
       "      <td>1991-07-04</td>\n",
       "      <td>masculino</td>\n",
       "      <td>no</td>\n",
       "      <td>empleado</td>\n",
       "      <td>mala</td>\n",
       "      <td>1.0</td>\n",
       "      <td>no</td>\n",
       "      <td>SI</td>\n",
       "      <td>no</td>\n",
       "      <td>resina u obturacion i sup</td>\n",
       "      <td>efectivo</td>\n",
       "      <td>200000.0</td>\n",
       "      <td>11161.0</td>\n",
       "      <td>t</td>\n",
       "      <td>30.0</td>\n",
       "    </tr>\n",
       "    <tr>\n",
       "      <th>590</th>\n",
       "      <td>2022-05-07</td>\n",
       "      <td>15:02:00</td>\n",
       "      <td>ana</td>\n",
       "      <td>cc</td>\n",
       "      <td>bogota</td>\n",
       "      <td>1978-12-16</td>\n",
       "      <td>femenino</td>\n",
       "      <td>sanitas</td>\n",
       "      <td>independiente</td>\n",
       "      <td>buena</td>\n",
       "      <td>NaN</td>\n",
       "      <td>si</td>\n",
       "      <td>NO</td>\n",
       "      <td>si</td>\n",
       "      <td>retratamiento multiradicular</td>\n",
       "      <td>efectivo</td>\n",
       "      <td>210000.0</td>\n",
       "      <td>NaN</td>\n",
       "      <td>t</td>\n",
       "      <td>43.0</td>\n",
       "    </tr>\n",
       "    <tr>\n",
       "      <th>107</th>\n",
       "      <td>2021-07-30</td>\n",
       "      <td>11:36:00</td>\n",
       "      <td>devid</td>\n",
       "      <td>cc</td>\n",
       "      <td>bogota</td>\n",
       "      <td>1992-07-24</td>\n",
       "      <td>masculino</td>\n",
       "      <td>famisanar</td>\n",
       "      <td>empleado</td>\n",
       "      <td>regualr</td>\n",
       "      <td>2.0</td>\n",
       "      <td>no</td>\n",
       "      <td>NO</td>\n",
       "      <td>no</td>\n",
       "      <td>endodoncia multiradicular</td>\n",
       "      <td>efectivo</td>\n",
       "      <td>50000.0</td>\n",
       "      <td>NaN</td>\n",
       "      <td>t</td>\n",
       "      <td>29.0</td>\n",
       "    </tr>\n",
       "    <tr>\n",
       "      <th>466</th>\n",
       "      <td>2022-03-16</td>\n",
       "      <td>11:11:00</td>\n",
       "      <td>sacaria</td>\n",
       "      <td>cc</td>\n",
       "      <td>bogota</td>\n",
       "      <td>1957-06-10</td>\n",
       "      <td>masculino</td>\n",
       "      <td>compensar</td>\n",
       "      <td>ama de casa</td>\n",
       "      <td>buena</td>\n",
       "      <td>3.0</td>\n",
       "      <td>si</td>\n",
       "      <td>NO</td>\n",
       "      <td>si</td>\n",
       "      <td>detartraje</td>\n",
       "      <td>efectivo</td>\n",
       "      <td>90000.0</td>\n",
       "      <td>907.0</td>\n",
       "      <td>t</td>\n",
       "      <td>65.0</td>\n",
       "    </tr>\n",
       "    <tr>\n",
       "      <th>219</th>\n",
       "      <td>2021-11-08</td>\n",
       "      <td>14:46:00</td>\n",
       "      <td>margarita</td>\n",
       "      <td>cc</td>\n",
       "      <td>bucaramanga</td>\n",
       "      <td>1954-10-01</td>\n",
       "      <td>femenino</td>\n",
       "      <td>famisanar</td>\n",
       "      <td>ama de casa</td>\n",
       "      <td>buena</td>\n",
       "      <td>NaN</td>\n",
       "      <td>si</td>\n",
       "      <td>SI</td>\n",
       "      <td>no</td>\n",
       "      <td>protesis convensional biodent total</td>\n",
       "      <td>efectivo</td>\n",
       "      <td>100000.0</td>\n",
       "      <td>NaN</td>\n",
       "      <td>p</td>\n",
       "      <td>67.0</td>\n",
       "    </tr>\n",
       "    <tr>\n",
       "      <th>411</th>\n",
       "      <td>2022-02-18</td>\n",
       "      <td>14:48:00</td>\n",
       "      <td>ramiro</td>\n",
       "      <td>cc</td>\n",
       "      <td>bogota</td>\n",
       "      <td>1979-01-12</td>\n",
       "      <td>masculino</td>\n",
       "      <td>nueva eps</td>\n",
       "      <td>independiente</td>\n",
       "      <td>buena</td>\n",
       "      <td>NaN</td>\n",
       "      <td>no</td>\n",
       "      <td>NO</td>\n",
       "      <td>no</td>\n",
       "      <td>exo perm cerrado ogeneral</td>\n",
       "      <td>nequi</td>\n",
       "      <td>90000.0</td>\n",
       "      <td>6289.0</td>\n",
       "      <td>t</td>\n",
       "      <td>43.0</td>\n",
       "    </tr>\n",
       "    <tr>\n",
       "      <th>40</th>\n",
       "      <td>2021-05-25</td>\n",
       "      <td>00:00:00</td>\n",
       "      <td>nathalie</td>\n",
       "      <td>cc</td>\n",
       "      <td>bogota</td>\n",
       "      <td>1987-07-29</td>\n",
       "      <td>femenino</td>\n",
       "      <td>sanitas</td>\n",
       "      <td>independiente</td>\n",
       "      <td>buena</td>\n",
       "      <td>2.0</td>\n",
       "      <td>no</td>\n",
       "      <td>NO</td>\n",
       "      <td>no</td>\n",
       "      <td>nucleo</td>\n",
       "      <td>efectivo</td>\n",
       "      <td>190000.0</td>\n",
       "      <td>12090.0</td>\n",
       "      <td>t</td>\n",
       "      <td>34.0</td>\n",
       "    </tr>\n",
       "  </tbody>\n",
       "</table>\n",
       "</div>"
      ],
      "text/plain": [
       "    appointment day appointment hour patient name type of id  \\\n",
       "100      2021-07-26         16:14:00         olga         cc   \n",
       "205      2021-10-30         12:00:00        ibeth         cc   \n",
       "423      2022-02-25         07:42:00      claudia         cc   \n",
       "63       2021-06-23         11:34:00       sergio         cc   \n",
       "590      2022-05-07         15:02:00          ana         cc   \n",
       "107      2021-07-30         11:36:00        devid         cc   \n",
       "466      2022-03-16         11:11:00      sacaria         cc   \n",
       "219      2021-11-08         14:46:00    margarita         cc   \n",
       "411      2022-02-18         14:48:00       ramiro         cc   \n",
       "40       2021-05-25         00:00:00     nathalie         cc   \n",
       "\n",
       "    id-document-issuance    birthday      genre healthcare facility  \\\n",
       "100               bogota  1977-03-19   femenino           famisanar   \n",
       "205              bolivar  1967-12-08   femenino           compensar   \n",
       "423              gachala  1978-05-01   femenino           compensar   \n",
       "63                bogota  1991-07-04  masculino                  no   \n",
       "590               bogota  1978-12-16   femenino             sanitas   \n",
       "107               bogota  1992-07-24  masculino           famisanar   \n",
       "466               bogota  1957-06-10  masculino           compensar   \n",
       "219          bucaramanga  1954-10-01   femenino           famisanar   \n",
       "411               bogota  1979-01-12  masculino           nueva eps   \n",
       "40                bogota  1987-07-29   femenino             sanitas   \n",
       "\n",
       "        occupation oral hygiene  brushing smoker floss usage alcoholic  \\\n",
       "100       empleado       beuna        2.0   non         None      None   \n",
       "205    ama de casa       buena        2.0     no          NO        no   \n",
       "423       empleado        buena       NaN    no           SI        no   \n",
       "63        empleado        mala        1.0    no          SI         no   \n",
       "590  independiente        buena       NaN    si          NO        si    \n",
       "107       empleado      regualr       2.0     no         NO        no    \n",
       "466    ama de casa        buena       3.0    si          NO        si    \n",
       "219    ama de casa        buena       NaN    si           SI        no   \n",
       "411  independiente        buena       NaN    no          NO         no   \n",
       "40   independiente       buena        2.0     no          NO        no   \n",
       "\n",
       "                          dental-procedure payment method      cost  \\\n",
       "100             resina u obturacion ii sup       efectivo  130000.0   \n",
       "205  protesis convensional biodent parcial       efectivo  140000.0   \n",
       "423                       resina de angulo       efectivo  100000.0   \n",
       "63               resina u obturacion i sup       efectivo  200000.0   \n",
       "590           retratamiento multiradicular       efectivo  210000.0   \n",
       "107              endodoncia multiradicular       efectivo   50000.0   \n",
       "466                             detartraje       efectivo   90000.0   \n",
       "219    protesis convensional biodent total       efectivo  100000.0   \n",
       "411              exo perm cerrado ogeneral          nequi   90000.0   \n",
       "40                                  nucleo       efectivo  190000.0   \n",
       "\n",
       "     dental-materials-cost procedure-status   age  \n",
       "100                11161.0                t  45.0  \n",
       "205                 8012.0                t  54.0  \n",
       "423                11161.0                t  44.0  \n",
       "63                 11161.0                t  30.0  \n",
       "590                    NaN                t  43.0  \n",
       "107                    NaN                t  29.0  \n",
       "466                  907.0                t  65.0  \n",
       "219                    NaN                p  67.0  \n",
       "411                 6289.0                t  43.0  \n",
       "40                 12090.0                t  34.0  "
      ]
     },
     "execution_count": 2,
     "metadata": {},
     "output_type": "execute_result"
    }
   ],
   "source": [
    "query_sql = '''\n",
    "SELECT date AS \"appointment day\", hour AS \"appointment hour\", \n",
    "LOWER(f_name) AS \"patient name\", LOWER(type_of_id) AS \"type of id\",\n",
    "LOWER(place_of_issuance) AS \"id-document-issuance\",  date_of_birth AS birthday,\n",
    "LOWER(genre) AS genre, LOWER(health_care_facility) AS \"healthcare facility\", \n",
    "LOWER(occupation) AS occupation, LOWER(oral_hygiene) AS \"oral hygiene\", \n",
    "brushed_per_day AS brushing , LOWER(smoke) AS smoker, dental_floss AS \"floss usage\", \n",
    "LOWER(alcohol) AS alcoholic, LOWER(proceed) AS \"dental-procedure\",\n",
    "LOWER(method_of_payment) AS \"payment method\", cost, material_expense AS \"dental-materials-cost\",\n",
    "LOWER(procedure_status) AS \"procedure-status\", extract(year from AGE(date_of_birth)) as age\n",
    "\n",
    "-- INNER JOIN is better than LEFT JOIN given raw data is quite incomple\n",
    "FROM patient\n",
    "INNER JOIN type_of_id USING (type_of_id_id)\n",
    "INNER JOIN genre USING (genre_id)\n",
    "INNER JOIN health_care_facility USING (health_care_facility_id)\n",
    "INNER JOIN occupation USING (occupation_id)\n",
    "INNER JOIN neighborhood USING (neighborhood_id)\n",
    "INNER JOIN patient_treatment USING (patient_id)\n",
    "INNER JOIN treatment USING (treatment_id)\n",
    "INNER JOIN proceed USING (proceed_id)\n",
    "INNER JOIN business_reference USING (business_reference_id)\n",
    "INNER JOIN method_of_payment USING (method_of_payment_id)\n",
    "'''\n",
    "#Using pd.read_sql we read the data and store it in dental_office_raw or raw data.\n",
    "dental_office_raw = pd.read_sql(query_sql, conn_sql)\n",
    "#Create a copy() in case we need to get back to it.\n",
    "dental_office = dental_office_raw.copy()\n",
    "#Extract a sample from it making sure it's been query properly.\n",
    "dental_office.sample(10)"
   ]
  },
  {
   "cell_type": "code",
   "execution_count": 3,
   "metadata": {
    "colab": {
     "base_uri": "https://localhost:8080/"
    },
    "id": "ODukhUQ6T1ek",
    "outputId": "5ee153c1-f5b1-400c-dc1e-6973d5d41ec5"
   },
   "outputs": [
    {
     "data": {
      "text/plain": [
       "(625, 20)"
      ]
     },
     "execution_count": 3,
     "metadata": {},
     "output_type": "execute_result"
    }
   ],
   "source": [
    "#Identify how many columns and rows has the DataFrame \n",
    "dental_office.shape"
   ]
  },
  {
   "cell_type": "markdown",
   "metadata": {
    "id": "dpB0kPLeItBc"
   },
   "source": [
    "## Data Exploration 👨‍💻🔍\n",
    "\n",
    "`info () besides indicating the data type shows us null values, so here is were we can decide, whether to cast or not data to their respective types and even categorize it for further analysis.\n",
    "\n",
    "- Identify data types and null data\n",
    "- Casting `birthday` and `appointment day` to date type.\n",
    "- Identify unique values within the next columns, `smoker`, `floss usage`, `alcoholic`, `oral hygiene`, correct semantic errors and remove blanks."
   ]
  },
  {
   "cell_type": "code",
   "execution_count": 4,
   "metadata": {
    "colab": {
     "base_uri": "https://localhost:8080/"
    },
    "id": "aDLdEWbkT4BN",
    "outputId": "5d09c2e0-784f-4f88-ad85-6d76fafb91c7"
   },
   "outputs": [
    {
     "name": "stdout",
     "output_type": "stream",
     "text": [
      "<class 'pandas.core.frame.DataFrame'>\n",
      "RangeIndex: 625 entries, 0 to 624\n",
      "Data columns (total 20 columns):\n",
      " #   Column                 Non-Null Count  Dtype  \n",
      "---  ------                 --------------  -----  \n",
      " 0   appointment day        624 non-null    object \n",
      " 1   appointment hour       625 non-null    object \n",
      " 2   patient name           624 non-null    object \n",
      " 3   type of id             625 non-null    object \n",
      " 4   id-document-issuance   625 non-null    object \n",
      " 5   birthday               617 non-null    object \n",
      " 6   genre                  625 non-null    object \n",
      " 7   healthcare facility    625 non-null    object \n",
      " 8   occupation             625 non-null    object \n",
      " 9   oral hygiene           624 non-null    object \n",
      " 10  brushing               397 non-null    float64\n",
      " 11  smoker                 624 non-null    object \n",
      " 12  floss usage            621 non-null    object \n",
      " 13  alcoholic              620 non-null    object \n",
      " 14  dental-procedure       625 non-null    object \n",
      " 15  payment method         625 non-null    object \n",
      " 16  cost                   590 non-null    float64\n",
      " 17  dental-materials-cost  343 non-null    float64\n",
      " 18  procedure-status       609 non-null    object \n",
      " 19  age                    617 non-null    float64\n",
      "dtypes: float64(4), object(16)\n",
      "memory usage: 97.8+ KB\n"
     ]
    }
   ],
   "source": [
    "#Data types and missing values\n",
    "dental_office.info()"
   ]
  },
  {
   "cell_type": "code",
   "execution_count": 5,
   "metadata": {
    "id": "kCaDnVh3T5nx"
   },
   "outputs": [],
   "source": [
    "#Turning object type to datetime64\n",
    "dental_office['appointment day'] = pd.to_datetime(dental_office['appointment day'])\n",
    "dental_office['birthday'] = pd.to_datetime(dental_office['birthday'])"
   ]
  },
  {
   "cell_type": "code",
   "execution_count": 6,
   "metadata": {
    "colab": {
     "base_uri": "https://localhost:8080/"
    },
    "id": "oleLsA9Db2rm",
    "outputId": "63c1971f-dde8-4601-f631-cff923c8eb00"
   },
   "outputs": [
    {
     "data": {
      "text/plain": [
       "array(['no ', 'si ', 'non '], dtype=object)"
      ]
     },
     "execution_count": 6,
     "metadata": {},
     "output_type": "execute_result"
    }
   ],
   "source": [
    "#Semantic errors identified in smoker column\n",
    "dental_office['smoker'].unique()[1:4]"
   ]
  },
  {
   "cell_type": "code",
   "execution_count": 7,
   "metadata": {
    "colab": {
     "base_uri": "https://localhost:8080/"
    },
    "id": "nVT1--rSGeFc",
    "outputId": "8f64becf-d025-4f3b-f234-a4e6728cd913"
   },
   "outputs": [
    {
     "data": {
      "text/plain": [
       "array(['no', 'si', None], dtype=object)"
      ]
     },
     "execution_count": 7,
     "metadata": {},
     "output_type": "execute_result"
    }
   ],
   "source": [
    "dental_office['smoker'].replace({'no ': 'no', 'non ': 'no','si ':'si'}, inplace=True)\n",
    "dental_office['smoker'].unique()"
   ]
  },
  {
   "cell_type": "code",
   "execution_count": 8,
   "metadata": {
    "colab": {
     "base_uri": "https://localhost:8080/"
    },
    "id": "NumnWs48GkFd",
    "outputId": "fb255333-a2df-4aa6-d8f6-d24a2fc48bc0"
   },
   "outputs": [
    {
     "data": {
      "text/plain": [
       "array(['SI', 'NO ', 'NO', 'SI ', None, ' NO ', 'MNO '], dtype=object)"
      ]
     },
     "execution_count": 8,
     "metadata": {},
     "output_type": "execute_result"
    }
   ],
   "source": [
    "#Semantic errors identified in floss usage column\n",
    "dental_office['floss usage'].unique()"
   ]
  },
  {
   "cell_type": "code",
   "execution_count": 9,
   "metadata": {
    "colab": {
     "base_uri": "https://localhost:8080/"
    },
    "id": "OX55neqxixV6",
    "outputId": "25762b04-7c9a-43bf-8757-1b221c9a3ae6"
   },
   "outputs": [
    {
     "data": {
      "text/plain": [
       "array(['si', 'no', None], dtype=object)"
      ]
     },
     "execution_count": 9,
     "metadata": {},
     "output_type": "execute_result"
    }
   ],
   "source": [
    "dental_office['floss usage'].replace({'NO ': 'no','NO': 'no','MNO ': 'no',' NO ': 'no', 'SI ': 'si','SI':'si'}, inplace=True)\n",
    "dental_office['floss usage'].unique()"
   ]
  },
  {
   "cell_type": "code",
   "execution_count": 10,
   "metadata": {
    "colab": {
     "base_uri": "https://localhost:8080/"
    },
    "id": "KC2rS8dzGp3H",
    "outputId": "d2d9346a-df47-4c00-cff6-e2b2a175261a"
   },
   "outputs": [
    {
     "data": {
      "text/plain": [
       "array(['no', 'si', 'no ', None, 'nio', 'si '], dtype=object)"
      ]
     },
     "execution_count": 10,
     "metadata": {},
     "output_type": "execute_result"
    }
   ],
   "source": [
    "#Semantic errors identified in alcoholic column\n",
    "dental_office['alcoholic'].unique()"
   ]
  },
  {
   "cell_type": "code",
   "execution_count": 11,
   "metadata": {
    "colab": {
     "base_uri": "https://localhost:8080/"
    },
    "id": "xgmK7wyK5Qrx",
    "outputId": "cbc73406-7b43-46a3-a18e-6ae2f3336a40"
   },
   "outputs": [
    {
     "data": {
      "text/plain": [
       "array(['no', 'si', None], dtype=object)"
      ]
     },
     "execution_count": 11,
     "metadata": {},
     "output_type": "execute_result"
    }
   ],
   "source": [
    "dental_office['alcoholic'].replace({'no ':'no','nio':'no','si ':'si'},inplace=True)\n",
    "dental_office['alcoholic'].unique()"
   ]
  },
  {
   "cell_type": "code",
   "execution_count": 12,
   "metadata": {
    "colab": {
     "base_uri": "https://localhost:8080/"
    },
    "id": "FDnHvaHjXG1q",
    "outputId": "60892d9b-b3c1-476d-c985-56a54230fb9e"
   },
   "outputs": [
    {
     "data": {
      "text/plain": [
       "array(['buena', 'regular', 'mala', 'beuna ', None], dtype=object)"
      ]
     },
     "execution_count": 12,
     "metadata": {},
     "output_type": "execute_result"
    }
   ],
   "source": [
    "#Semantic errors identified in oral hygeine column\n",
    "dental_office['oral hygiene'].replace({'buena ':'buena','mala ':'mala','regular ':'regular','regualr':'regular','bueno ':'buena','buena 2':'buena','bueno':'buena'}, inplace=True)\n",
    "dental_office['oral hygiene'].unique()"
   ]
  },
  {
   "cell_type": "code",
   "execution_count": 13,
   "metadata": {
    "colab": {
     "base_uri": "https://localhost:8080/",
     "height": 426
    },
    "id": "N-Ca-lz758Y-",
    "outputId": "6887e9e0-4374-47ed-9803-92c2246210f5"
   },
   "outputs": [
    {
     "data": {
      "text/html": [
       "<div>\n",
       "<style scoped>\n",
       "    .dataframe tbody tr th:only-of-type {\n",
       "        vertical-align: middle;\n",
       "    }\n",
       "\n",
       "    .dataframe tbody tr th {\n",
       "        vertical-align: top;\n",
       "    }\n",
       "\n",
       "    .dataframe thead th {\n",
       "        text-align: right;\n",
       "    }\n",
       "</style>\n",
       "<table border=\"1\" class=\"dataframe\">\n",
       "  <thead>\n",
       "    <tr style=\"text-align: right;\">\n",
       "      <th></th>\n",
       "      <th>col_name</th>\n",
       "      <th>null_val</th>\n",
       "    </tr>\n",
       "  </thead>\n",
       "  <tbody>\n",
       "    <tr>\n",
       "      <th>0</th>\n",
       "      <td>appointment day</td>\n",
       "      <td>1</td>\n",
       "    </tr>\n",
       "    <tr>\n",
       "      <th>1</th>\n",
       "      <td>patient name</td>\n",
       "      <td>1</td>\n",
       "    </tr>\n",
       "    <tr>\n",
       "      <th>2</th>\n",
       "      <td>birthday</td>\n",
       "      <td>8</td>\n",
       "    </tr>\n",
       "    <tr>\n",
       "      <th>3</th>\n",
       "      <td>oral hygiene</td>\n",
       "      <td>1</td>\n",
       "    </tr>\n",
       "    <tr>\n",
       "      <th>4</th>\n",
       "      <td>brushing</td>\n",
       "      <td>228</td>\n",
       "    </tr>\n",
       "    <tr>\n",
       "      <th>5</th>\n",
       "      <td>smoker</td>\n",
       "      <td>1</td>\n",
       "    </tr>\n",
       "    <tr>\n",
       "      <th>6</th>\n",
       "      <td>floss usage</td>\n",
       "      <td>4</td>\n",
       "    </tr>\n",
       "    <tr>\n",
       "      <th>7</th>\n",
       "      <td>alcoholic</td>\n",
       "      <td>5</td>\n",
       "    </tr>\n",
       "    <tr>\n",
       "      <th>8</th>\n",
       "      <td>cost</td>\n",
       "      <td>35</td>\n",
       "    </tr>\n",
       "    <tr>\n",
       "      <th>9</th>\n",
       "      <td>dental-materials-cost</td>\n",
       "      <td>282</td>\n",
       "    </tr>\n",
       "    <tr>\n",
       "      <th>10</th>\n",
       "      <td>procedure-status</td>\n",
       "      <td>16</td>\n",
       "    </tr>\n",
       "    <tr>\n",
       "      <th>11</th>\n",
       "      <td>age</td>\n",
       "      <td>8</td>\n",
       "    </tr>\n",
       "  </tbody>\n",
       "</table>\n",
       "</div>"
      ],
      "text/plain": [
       "                 col_name  null_val\n",
       "0         appointment day         1\n",
       "1            patient name         1\n",
       "2                birthday         8\n",
       "3            oral hygiene         1\n",
       "4                brushing       228\n",
       "5                  smoker         1\n",
       "6             floss usage         4\n",
       "7               alcoholic         5\n",
       "8                    cost        35\n",
       "9   dental-materials-cost       282\n",
       "10       procedure-status        16\n",
       "11                    age         8"
      ]
     },
     "execution_count": 13,
     "metadata": {},
     "output_type": "execute_result"
    }
   ],
   "source": [
    "#Below we indicate the number of missing values per column\n",
    "null_values = dental_office.isnull().sum().reset_index()\n",
    "null_values.rename(columns={'index':'col_name',0:'null_val'},inplace=True)\n",
    "null_values = null_values[null_values['null_val']>0].reset_index(drop=True)\n",
    "null_values"
   ]
  },
  {
   "cell_type": "markdown",
   "metadata": {
    "id": "v89XJNAiAA1W"
   },
   "source": [
    "There are control or follow-up dental visits, which do not have any associated cost, so we'll replace all the missing values in the `cost` column with 0. This does not happen with other columns such as `brushing`, which we will discard from the analysis given the missing values; in doing so, we'll proceed to remove duplicates based on the remaining columns."
   ]
  },
  {
   "cell_type": "code",
   "execution_count": 14,
   "metadata": {
    "id": "5-MIDPe4SkEb"
   },
   "outputs": [],
   "source": [
    "dental_office['cost'].fillna(0, inplace=True)\n",
    "dental_office['dental-materials-cost'].fillna(0,inplace=True)\n",
    "\n",
    "dental_office.dropna(how='any', subset=['patient name','birthday','smoker','floss usage','alcoholic','procedure-status','appointment day'], inplace=True)\n",
    "\n",
    "dental_office = dental_office[['appointment day', 'appointment hour', 'patient name', 'type of id',\n",
    "       'id-document-issuance', 'birthday','age', 'genre', 'healthcare facility',\n",
    "       'occupation', 'oral hygiene', 'smoker', 'floss usage',\n",
    "       'alcoholic', 'dental-procedure', 'payment method', 'cost','dental-materials-cost', 'procedure-status']]"
   ]
  },
  {
   "cell_type": "code",
   "execution_count": 15,
   "metadata": {
    "id": "1ufPVC1Z7ZwK"
   },
   "outputs": [],
   "source": [
    "#Turning object type into categorical \n",
    "dental_office = dental_office.astype({\"type of id\":\"category\", \"id-document-issuance\":'category',\"genre\":'category',\n",
    "                                      \"healthcare facility\":'category',\"occupation\":'category',\"oral hygiene\":'category',\n",
    "                                      \"smoker\":'category',\"floss usage\":'category',\"alcoholic\":'category',\n",
    "                                      \"dental-procedure\":'category',\"payment method\":'category',\n",
    "                                      \"procedure-status\":'category',\"age\":'int'})"
   ]
  },
  {
   "cell_type": "markdown",
   "metadata": {
    "id": "pdob149ckpM5"
   },
   "source": [
    "### Procedures performed on patients grouped by gender with the highest cost.\n",
    "\n",
    "This information compiles the procedures in which both men and women invested more money. We create a grouped table for each gender, then we do an append.\n",
    "\n",
    "- The most expensive procedure accessed by patients grouped by gender and most frequently used are flexible prostheses."
   ]
  },
  {
   "cell_type": "code",
   "execution_count": 16,
   "metadata": {
    "colab": {
     "base_uri": "https://localhost:8080/",
     "height": 394
    },
    "id": "qHBVKRTztkUj",
    "outputId": "cd2446a9-d831-410c-c540-4214ac49b655"
   },
   "outputs": [
    {
     "name": "stderr",
     "output_type": "stream",
     "text": [
      "/tmp/ipykernel_1605/732345006.py:7: FutureWarning: The series.append method is deprecated and will be removed from pandas in a future version. Use pandas.concat instead.\n",
      "  men_top_proc.append(women_top_proc).to_frame()\n"
     ]
    },
    {
     "data": {
      "text/html": [
       "<div>\n",
       "<style scoped>\n",
       "    .dataframe tbody tr th:only-of-type {\n",
       "        vertical-align: middle;\n",
       "    }\n",
       "\n",
       "    .dataframe tbody tr th {\n",
       "        vertical-align: top;\n",
       "    }\n",
       "\n",
       "    .dataframe thead th {\n",
       "        text-align: right;\n",
       "    }\n",
       "</style>\n",
       "<table border=\"1\" class=\"dataframe\">\n",
       "  <thead>\n",
       "    <tr style=\"text-align: right;\">\n",
       "      <th></th>\n",
       "      <th></th>\n",
       "      <th>cost</th>\n",
       "    </tr>\n",
       "    <tr>\n",
       "      <th>genre</th>\n",
       "      <th>dental-procedure</th>\n",
       "      <th></th>\n",
       "    </tr>\n",
       "  </thead>\n",
       "  <tbody>\n",
       "    <tr>\n",
       "      <th rowspan=\"5\" valign=\"top\">masculino</th>\n",
       "      <th>protesis flexible isosit parcial</th>\n",
       "      <td>1000000</td>\n",
       "    </tr>\n",
       "    <tr>\n",
       "      <th>protesis alto impacto duratone total</th>\n",
       "      <td>500000</td>\n",
       "    </tr>\n",
       "    <tr>\n",
       "      <th>protesis flexible duratone parcial</th>\n",
       "      <td>380000</td>\n",
       "    </tr>\n",
       "    <tr>\n",
       "      <th>protesisflexible biodent parcial</th>\n",
       "      <td>335000</td>\n",
       "    </tr>\n",
       "    <tr>\n",
       "      <th>recubrimiento multiradicular</th>\n",
       "      <td>315000</td>\n",
       "    </tr>\n",
       "    <tr>\n",
       "      <th rowspan=\"5\" valign=\"top\">femenino</th>\n",
       "      <th>protesis flexible superc parcial</th>\n",
       "      <td>700000</td>\n",
       "    </tr>\n",
       "    <tr>\n",
       "      <th>protesis alto impacto biodent parcial</th>\n",
       "      <td>330000</td>\n",
       "    </tr>\n",
       "    <tr>\n",
       "      <th>recubrimiento multiradicular</th>\n",
       "      <td>325000</td>\n",
       "    </tr>\n",
       "    <tr>\n",
       "      <th>exo caninos cirujano</th>\n",
       "      <td>320000</td>\n",
       "    </tr>\n",
       "    <tr>\n",
       "      <th>protesis flexible duratone parcial</th>\n",
       "      <td>300000</td>\n",
       "    </tr>\n",
       "  </tbody>\n",
       "</table>\n",
       "</div>"
      ],
      "text/plain": [
       "                                                   cost\n",
       "genre     dental-procedure                             \n",
       "masculino protesis flexible isosit parcial      1000000\n",
       "          protesis alto impacto duratone total   500000\n",
       "          protesis flexible duratone parcial     380000\n",
       "          protesisflexible biodent parcial       335000\n",
       "          recubrimiento multiradicular           315000\n",
       "femenino  protesis flexible superc parcial       700000\n",
       "          protesis alto impacto biodent parcial  330000\n",
       "          recubrimiento multiradicular           325000\n",
       "          exo caninos cirujano                   320000\n",
       "          protesis flexible duratone parcial     300000"
      ]
     },
     "execution_count": 16,
     "metadata": {},
     "output_type": "execute_result"
    }
   ],
   "source": [
    "#Set up display options for floating format\n",
    "pd.options.display.float_format = '{:.0f}'.format\n",
    "#Add to columns filtered by gender\n",
    "dental_office['counts'] = 1\n",
    "women_top_proc = dental_office[dental_office['genre']=='femenino'].groupby(['genre','dental-procedure'])['cost'].median().sort_values(ascending=False).head(5)\n",
    "men_top_proc = dental_office[dental_office['genre']=='masculino'].groupby(['genre','dental-procedure'])['cost'].median().sort_values(ascending=False).head(5)\n",
    "men_top_proc.append(women_top_proc).to_frame()"
   ]
  },
  {
   "cell_type": "markdown",
   "metadata": {
    "id": "leVt94vCrGtT"
   },
   "source": [
    "### Descriptive Income Statistics regarding gender and occupation\n",
    "\n",
    "**Note**: Errors are evident in the male gender with respect to the occupation `housewife` which does not usually apply to this gender and was applied by mistake.\n",
    "\n",
    "- The median is the same for self-employed and employees regardless of gender.\n",
    "- Unemployed men have the highest standard deviation, which could be due to an error when entering the type of patient. In addition, there is no agreement that the unemployed present the second highest income. Opposed to what happens with women."
   ]
  },
  {
   "cell_type": "code",
   "execution_count": 17,
   "metadata": {
    "colab": {
     "base_uri": "https://localhost:8080/",
     "height": 458
    },
    "id": "x4DH3RtS4krR",
    "outputId": "693db246-5719-48e8-8910-42f21eb577ea"
   },
   "outputs": [
    {
     "data": {
      "text/html": [
       "<div>\n",
       "<style scoped>\n",
       "    .dataframe tbody tr th:only-of-type {\n",
       "        vertical-align: middle;\n",
       "    }\n",
       "\n",
       "    .dataframe tbody tr th {\n",
       "        vertical-align: top;\n",
       "    }\n",
       "\n",
       "    .dataframe thead th {\n",
       "        text-align: right;\n",
       "    }\n",
       "</style>\n",
       "<table border=\"1\" class=\"dataframe\">\n",
       "  <thead>\n",
       "    <tr style=\"text-align: right;\">\n",
       "      <th></th>\n",
       "      <th></th>\n",
       "      <th>count</th>\n",
       "      <th>mean</th>\n",
       "      <th>std</th>\n",
       "      <th>min</th>\n",
       "      <th>25%</th>\n",
       "      <th>50%</th>\n",
       "      <th>75%</th>\n",
       "      <th>max</th>\n",
       "    </tr>\n",
       "    <tr>\n",
       "      <th>genre</th>\n",
       "      <th>occupation</th>\n",
       "      <th></th>\n",
       "      <th></th>\n",
       "      <th></th>\n",
       "      <th></th>\n",
       "      <th></th>\n",
       "      <th></th>\n",
       "      <th></th>\n",
       "      <th></th>\n",
       "    </tr>\n",
       "  </thead>\n",
       "  <tbody>\n",
       "    <tr>\n",
       "      <th rowspan=\"5\" valign=\"top\">femenino</th>\n",
       "      <th>ama de casa</th>\n",
       "      <td>57</td>\n",
       "      <td>149333</td>\n",
       "      <td>221572</td>\n",
       "      <td>0</td>\n",
       "      <td>40000</td>\n",
       "      <td>80000</td>\n",
       "      <td>140000</td>\n",
       "      <td>1200000</td>\n",
       "    </tr>\n",
       "    <tr>\n",
       "      <th>desempleado</th>\n",
       "      <td>11</td>\n",
       "      <td>64455</td>\n",
       "      <td>87363</td>\n",
       "      <td>0</td>\n",
       "      <td>14500</td>\n",
       "      <td>50000</td>\n",
       "      <td>55000</td>\n",
       "      <td>300000</td>\n",
       "    </tr>\n",
       "    <tr>\n",
       "      <th>empleado</th>\n",
       "      <td>121</td>\n",
       "      <td>145117</td>\n",
       "      <td>235849</td>\n",
       "      <td>0</td>\n",
       "      <td>50000</td>\n",
       "      <td>90000</td>\n",
       "      <td>130000</td>\n",
       "      <td>2123123</td>\n",
       "    </tr>\n",
       "    <tr>\n",
       "      <th>estudiante</th>\n",
       "      <td>54</td>\n",
       "      <td>87278</td>\n",
       "      <td>93164</td>\n",
       "      <td>0</td>\n",
       "      <td>50000</td>\n",
       "      <td>61000</td>\n",
       "      <td>98750</td>\n",
       "      <td>600000</td>\n",
       "    </tr>\n",
       "    <tr>\n",
       "      <th>independiente</th>\n",
       "      <td>122</td>\n",
       "      <td>113713</td>\n",
       "      <td>104347</td>\n",
       "      <td>0</td>\n",
       "      <td>56250</td>\n",
       "      <td>90000</td>\n",
       "      <td>147500</td>\n",
       "      <td>740000</td>\n",
       "    </tr>\n",
       "    <tr>\n",
       "      <th rowspan=\"5\" valign=\"top\">masculino</th>\n",
       "      <th>ama de casa</th>\n",
       "      <td>4</td>\n",
       "      <td>72500</td>\n",
       "      <td>26300</td>\n",
       "      <td>50000</td>\n",
       "      <td>50000</td>\n",
       "      <td>70000</td>\n",
       "      <td>92500</td>\n",
       "      <td>100000</td>\n",
       "    </tr>\n",
       "    <tr>\n",
       "      <th>desempleado</th>\n",
       "      <td>12</td>\n",
       "      <td>326667</td>\n",
       "      <td>596659</td>\n",
       "      <td>10000</td>\n",
       "      <td>15000</td>\n",
       "      <td>85000</td>\n",
       "      <td>207500</td>\n",
       "      <td>2000000</td>\n",
       "    </tr>\n",
       "    <tr>\n",
       "      <th>empleado</th>\n",
       "      <td>73</td>\n",
       "      <td>108274</td>\n",
       "      <td>102846</td>\n",
       "      <td>0</td>\n",
       "      <td>55000</td>\n",
       "      <td>90000</td>\n",
       "      <td>110000</td>\n",
       "      <td>650000</td>\n",
       "    </tr>\n",
       "    <tr>\n",
       "      <th>estudiante</th>\n",
       "      <td>18</td>\n",
       "      <td>47778</td>\n",
       "      <td>36146</td>\n",
       "      <td>0</td>\n",
       "      <td>15000</td>\n",
       "      <td>50000</td>\n",
       "      <td>70000</td>\n",
       "      <td>140000</td>\n",
       "    </tr>\n",
       "    <tr>\n",
       "      <th>independiente</th>\n",
       "      <td>122</td>\n",
       "      <td>112574</td>\n",
       "      <td>101579</td>\n",
       "      <td>0</td>\n",
       "      <td>50000</td>\n",
       "      <td>90000</td>\n",
       "      <td>140000</td>\n",
       "      <td>620000</td>\n",
       "    </tr>\n",
       "  </tbody>\n",
       "</table>\n",
       "</div>"
      ],
      "text/plain": [
       "                         count   mean    std   min   25%   50%    75%     max\n",
       "genre     occupation                                                         \n",
       "femenino  ama de casa       57 149333 221572     0 40000 80000 140000 1200000\n",
       "          desempleado       11  64455  87363     0 14500 50000  55000  300000\n",
       "          empleado         121 145117 235849     0 50000 90000 130000 2123123\n",
       "          estudiante        54  87278  93164     0 50000 61000  98750  600000\n",
       "          independiente    122 113713 104347     0 56250 90000 147500  740000\n",
       "masculino ama de casa        4  72500  26300 50000 50000 70000  92500  100000\n",
       "          desempleado       12 326667 596659 10000 15000 85000 207500 2000000\n",
       "          empleado          73 108274 102846     0 55000 90000 110000  650000\n",
       "          estudiante        18  47778  36146     0 15000 50000  70000  140000\n",
       "          independiente    122 112574 101579     0 50000 90000 140000  620000"
      ]
     },
     "execution_count": 17,
     "metadata": {},
     "output_type": "execute_result"
    }
   ],
   "source": [
    "#Income grouped by genre and occupation\n",
    "dental_office.groupby(['genre','occupation'])['cost'].describe()"
   ]
  },
  {
   "cell_type": "markdown",
   "metadata": {
    "id": "m0n0smtmy9yK"
   },
   "source": [
    "### Analysis of essential aspects in oral care\n",
    "\n",
    "There are bad habits that affect teeth health,  such as `smoking ',` drinking alcohol`,  or not brushing  properly. They can cause either short- or long-term problems depending on each patient.  Focusing health and prevention campaigns on populations with higher incidences of bad habits can help.\n",
    "\n",
    "**Smokers**\n",
    "\n",
    "- In terms of occupation, employees and self-employed have the most significant percentage or a higher tendency to smoke. It should be noted that the amount of data for categories other than employees and self-employed is not significant, which increases the bias in the given conclusion.\n",
    "\n",
    "**Oral hygiene**\n",
    "\n",
    "- Oral hygiene is related to the number of times we brush our teeth per day, where 3 is good, 2 is regular and 1 is bad.\n",
    "-More than 50%of patients, both men and women, have good hygiene, which makes sense in patients who are attentive to their oral health. Usually patients who have bad habits in their oral health do not usually visit the dentist.\n",
    "\n",
    "**Dental Floss**\n",
    "\n",
    "- Dental floss is a very important habit, but just a few 4 out of 10 people use it.\n",
    "\n",
    "**Alcohol**\n",
    "\n",
    "- The question, Do you consume alcoholic beverages?. Well,  patients don't know what to answer, or they associate it with people who abuse alcoholic beverages, so we should reword the question and make the patient feel more comfortable instead of being attacked with the question. "
   ]
  },
  {
   "cell_type": "code",
   "execution_count": 18,
   "metadata": {
    "colab": {
     "base_uri": "https://localhost:8080/",
     "height": 175
    },
    "id": "dZhDoMiB_0fB",
    "outputId": "1573e13b-d42f-4b38-ebed-767481b41944"
   },
   "outputs": [
    {
     "data": {
      "text/html": [
       "<div>\n",
       "<style scoped>\n",
       "    .dataframe tbody tr th:only-of-type {\n",
       "        vertical-align: middle;\n",
       "    }\n",
       "\n",
       "    .dataframe tbody tr th {\n",
       "        vertical-align: top;\n",
       "    }\n",
       "\n",
       "    .dataframe thead tr th {\n",
       "        text-align: left;\n",
       "    }\n",
       "\n",
       "    .dataframe thead tr:last-of-type th {\n",
       "        text-align: right;\n",
       "    }\n",
       "</style>\n",
       "<table border=\"1\" class=\"dataframe\">\n",
       "  <thead>\n",
       "    <tr>\n",
       "      <th></th>\n",
       "      <th colspan=\"5\" halign=\"left\">counts</th>\n",
       "    </tr>\n",
       "    <tr>\n",
       "      <th>occupation</th>\n",
       "      <th>ama de casa</th>\n",
       "      <th>desempleado</th>\n",
       "      <th>empleado</th>\n",
       "      <th>estudiante</th>\n",
       "      <th>independiente</th>\n",
       "    </tr>\n",
       "    <tr>\n",
       "      <th>genre</th>\n",
       "      <th></th>\n",
       "      <th></th>\n",
       "      <th></th>\n",
       "      <th></th>\n",
       "      <th></th>\n",
       "    </tr>\n",
       "  </thead>\n",
       "  <tbody>\n",
       "    <tr>\n",
       "      <th>femenino</th>\n",
       "      <td>2.19%</td>\n",
       "      <td>0.00%</td>\n",
       "      <td>10.68%</td>\n",
       "      <td>4.66%</td>\n",
       "      <td>9.32%</td>\n",
       "    </tr>\n",
       "    <tr>\n",
       "      <th>masculino</th>\n",
       "      <td>1.31%</td>\n",
       "      <td>0.44%</td>\n",
       "      <td>11.79%</td>\n",
       "      <td>2.62%</td>\n",
       "      <td>19.21%</td>\n",
       "    </tr>\n",
       "  </tbody>\n",
       "</table>\n",
       "</div>"
      ],
      "text/plain": [
       "                counts                                              \n",
       "occupation ama de casa desempleado empleado estudiante independiente\n",
       "genre                                                               \n",
       "femenino         2.19%       0.00%   10.68%      4.66%         9.32%\n",
       "masculino        1.31%       0.44%   11.79%      2.62%        19.21%"
      ]
     },
     "execution_count": 18,
     "metadata": {},
     "output_type": "execute_result"
    }
   ],
   "source": [
    "#Smokers percentage\n",
    "pd.options.display.float_format = '{:.2f}%'.format\n",
    "p_smoker = dental_office.groupby(['genre','smoker','occupation'])[['counts']].sum()\n",
    "p_smoker = p_smoker.groupby(level=0).apply(lambda x :  x /x.sum()*100).unstack('occupation')\n",
    "p_smoker.xs('si',level=1)"
   ]
  },
  {
   "cell_type": "code",
   "execution_count": 19,
   "metadata": {
    "colab": {
     "base_uri": "https://localhost:8080/",
     "height": 269
    },
    "id": "7If-EwmEAqxi",
    "outputId": "0ff6017d-15b6-412a-f2df-9369cb8703ee"
   },
   "outputs": [
    {
     "data": {
      "text/html": [
       "<div>\n",
       "<style scoped>\n",
       "    .dataframe tbody tr th:only-of-type {\n",
       "        vertical-align: middle;\n",
       "    }\n",
       "\n",
       "    .dataframe tbody tr th {\n",
       "        vertical-align: top;\n",
       "    }\n",
       "\n",
       "    .dataframe thead th {\n",
       "        text-align: right;\n",
       "    }\n",
       "</style>\n",
       "<table border=\"1\" class=\"dataframe\">\n",
       "  <thead>\n",
       "    <tr style=\"text-align: right;\">\n",
       "      <th></th>\n",
       "      <th></th>\n",
       "      <th>counts</th>\n",
       "    </tr>\n",
       "    <tr>\n",
       "      <th>genre</th>\n",
       "      <th>oral hygiene</th>\n",
       "      <th></th>\n",
       "    </tr>\n",
       "  </thead>\n",
       "  <tbody>\n",
       "    <tr>\n",
       "      <th rowspan=\"3\" valign=\"top\">femenino</th>\n",
       "      <th>buena</th>\n",
       "      <td>63.84%</td>\n",
       "    </tr>\n",
       "    <tr>\n",
       "      <th>mala</th>\n",
       "      <td>0.55%</td>\n",
       "    </tr>\n",
       "    <tr>\n",
       "      <th>regular</th>\n",
       "      <td>35.62%</td>\n",
       "    </tr>\n",
       "    <tr>\n",
       "      <th rowspan=\"3\" valign=\"top\">masculino</th>\n",
       "      <th>buena</th>\n",
       "      <td>50.22%</td>\n",
       "    </tr>\n",
       "    <tr>\n",
       "      <th>mala</th>\n",
       "      <td>9.17%</td>\n",
       "    </tr>\n",
       "    <tr>\n",
       "      <th>regular</th>\n",
       "      <td>40.61%</td>\n",
       "    </tr>\n",
       "  </tbody>\n",
       "</table>\n",
       "</div>"
      ],
      "text/plain": [
       "                        counts\n",
       "genre     oral hygiene        \n",
       "femenino  buena         63.84%\n",
       "          mala           0.55%\n",
       "          regular       35.62%\n",
       "masculino buena         50.22%\n",
       "          mala           9.17%\n",
       "          regular       40.61%"
      ]
     },
     "execution_count": 19,
     "metadata": {},
     "output_type": "execute_result"
    }
   ],
   "source": [
    "#Oral hygeine percentage grouped by gender\n",
    "p_hygiene = dental_office.groupby(['genre','oral hygiene'])[['counts']].sum()\n",
    "p_hygiene.groupby(level=0).apply(lambda x : x / x.sum()*100)"
   ]
  },
  {
   "cell_type": "code",
   "execution_count": 20,
   "metadata": {
    "colab": {
     "base_uri": "https://localhost:8080/",
     "height": 206
    },
    "id": "3HrwhheAEiDr",
    "outputId": "3054170f-2672-4ca4-d1ea-71c0c79c3529"
   },
   "outputs": [
    {
     "data": {
      "text/html": [
       "<div>\n",
       "<style scoped>\n",
       "    .dataframe tbody tr th:only-of-type {\n",
       "        vertical-align: middle;\n",
       "    }\n",
       "\n",
       "    .dataframe tbody tr th {\n",
       "        vertical-align: top;\n",
       "    }\n",
       "\n",
       "    .dataframe thead th {\n",
       "        text-align: right;\n",
       "    }\n",
       "</style>\n",
       "<table border=\"1\" class=\"dataframe\">\n",
       "  <thead>\n",
       "    <tr style=\"text-align: right;\">\n",
       "      <th></th>\n",
       "      <th></th>\n",
       "      <th>counts</th>\n",
       "    </tr>\n",
       "    <tr>\n",
       "      <th>genre</th>\n",
       "      <th>floss usage</th>\n",
       "      <th></th>\n",
       "    </tr>\n",
       "  </thead>\n",
       "  <tbody>\n",
       "    <tr>\n",
       "      <th rowspan=\"2\" valign=\"top\">femenino</th>\n",
       "      <th>no</th>\n",
       "      <td>58.90%</td>\n",
       "    </tr>\n",
       "    <tr>\n",
       "      <th>si</th>\n",
       "      <td>41.10%</td>\n",
       "    </tr>\n",
       "    <tr>\n",
       "      <th rowspan=\"2\" valign=\"top\">masculino</th>\n",
       "      <th>no</th>\n",
       "      <td>68.56%</td>\n",
       "    </tr>\n",
       "    <tr>\n",
       "      <th>si</th>\n",
       "      <td>31.44%</td>\n",
       "    </tr>\n",
       "  </tbody>\n",
       "</table>\n",
       "</div>"
      ],
      "text/plain": [
       "                       counts\n",
       "genre     floss usage        \n",
       "femenino  no           58.90%\n",
       "          si           41.10%\n",
       "masculino no           68.56%\n",
       "          si           31.44%"
      ]
     },
     "execution_count": 20,
     "metadata": {},
     "output_type": "execute_result"
    }
   ],
   "source": [
    "#Dental floss usage grouped by gender\n",
    "p_floss = dental_office.groupby(['genre','floss usage'])[['counts']].sum()\n",
    "p_floss.groupby(level=0).apply(lambda x : x / x.sum()*100)"
   ]
  },
  {
   "cell_type": "code",
   "execution_count": 21,
   "metadata": {
    "colab": {
     "base_uri": "https://localhost:8080/",
     "height": 175
    },
    "id": "9YQVsvNKGb94",
    "outputId": "75240a6c-e0b9-4967-a50d-47505a7bd03d"
   },
   "outputs": [
    {
     "data": {
      "text/html": [
       "<div>\n",
       "<style scoped>\n",
       "    .dataframe tbody tr th:only-of-type {\n",
       "        vertical-align: middle;\n",
       "    }\n",
       "\n",
       "    .dataframe tbody tr th {\n",
       "        vertical-align: top;\n",
       "    }\n",
       "\n",
       "    .dataframe thead tr th {\n",
       "        text-align: left;\n",
       "    }\n",
       "\n",
       "    .dataframe thead tr:last-of-type th {\n",
       "        text-align: right;\n",
       "    }\n",
       "</style>\n",
       "<table border=\"1\" class=\"dataframe\">\n",
       "  <thead>\n",
       "    <tr>\n",
       "      <th></th>\n",
       "      <th colspan=\"5\" halign=\"left\">counts</th>\n",
       "    </tr>\n",
       "    <tr>\n",
       "      <th>occupation</th>\n",
       "      <th>ama de casa</th>\n",
       "      <th>desempleado</th>\n",
       "      <th>empleado</th>\n",
       "      <th>estudiante</th>\n",
       "      <th>independiente</th>\n",
       "    </tr>\n",
       "    <tr>\n",
       "      <th>genre</th>\n",
       "      <th></th>\n",
       "      <th></th>\n",
       "      <th></th>\n",
       "      <th></th>\n",
       "      <th></th>\n",
       "    </tr>\n",
       "  </thead>\n",
       "  <tbody>\n",
       "    <tr>\n",
       "      <th>femenino</th>\n",
       "      <td>0.82%</td>\n",
       "      <td>0.00%</td>\n",
       "      <td>8.49%</td>\n",
       "      <td>4.11%</td>\n",
       "      <td>7.67%</td>\n",
       "    </tr>\n",
       "    <tr>\n",
       "      <th>masculino</th>\n",
       "      <td>1.31%</td>\n",
       "      <td>0.00%</td>\n",
       "      <td>5.68%</td>\n",
       "      <td>2.62%</td>\n",
       "      <td>14.41%</td>\n",
       "    </tr>\n",
       "  </tbody>\n",
       "</table>\n",
       "</div>"
      ],
      "text/plain": [
       "                counts                                              \n",
       "occupation ama de casa desempleado empleado estudiante independiente\n",
       "genre                                                               \n",
       "femenino         0.82%       0.00%    8.49%      4.11%         7.67%\n",
       "masculino        1.31%       0.00%    5.68%      2.62%        14.41%"
      ]
     },
     "execution_count": 21,
     "metadata": {},
     "output_type": "execute_result"
    }
   ],
   "source": [
    "#Alcohol consumption grouped by gender\n",
    "p_alcoholic = dental_office.groupby(['genre','alcoholic','occupation'])[['counts']].sum()\n",
    "p_alcoholic = p_alcoholic.groupby(level=0).apply(lambda x : x / x.sum()*100)\n",
    "p_alcoholic.unstack('occupation').xs('si',level=1)"
   ]
  },
  {
   "cell_type": "markdown",
   "metadata": {
    "id": "8e-GL06eGAIe"
   },
   "source": [
    "###Patients Preferred Payment Methods\n",
    "\n",
    "Payment options are increasingly diverse to make it easier for patients to access dental treatment. We could analyze payment methods with regard to different population groups. but for this analysis we will focus on relating them in regard to the occupation and the generation each patient belongs to.\n",
    "\n",
    "**Generation/Occupation**\n",
    "\n",
    "Despite the convenience of bank or mobile transfers, they aren't as representative as cash, or traditional payment methods. Creditcart transfers in some cases involve tax payments and have also not been adopted by all generations or age ranges. The graph `percentage by generation` shows the segment of patients that belongs to each generation.\n",
    "- Approximately 45% of patients are `Gen Z` and `Millennials` i.e., a population made up of youth and young adults whose use of EFT's is likely to be greater than older adults.\n",
    "- When we cross  generations data regarding payment methods, we observe that a higher percentage of electronic payments are in `Millennials` compared to other generations. Despite being a representative population of the total number of patients, the preferred payment method is the traditional one by far.\n",
    "- **Note**: Create a table that allows validating whether the `Millennials` generation that has access to dental treatments are actually the most active at work so they can afford them. **Answer**: The `Millennials` generation are the most active at work. Most of them are self-employed.\n",
    "- People whose occupation is self-employed are the population that uses the most electronic payment methods, with more than 20% of the total."
   ]
  },
  {
   "cell_type": "code",
   "execution_count": 22,
   "metadata": {
    "id": "rLLt5iPoSs3Q"
   },
   "outputs": [],
   "source": [
    "#This func allow us to categorize patient age group by generations \n",
    "def patient_gen(x):\n",
    "  if x >= 10 and x <= 25:\n",
    "    return 'Gen Z'\n",
    "  elif x >= 26 and x <= 41:\n",
    "    return 'Millennials'\n",
    "  elif x >= 42 and x <= 57:\n",
    "    return 'Gen X'\n",
    "  elif x >= 58 and x <= 67:\n",
    "    return 'Boomers II'\n",
    "  elif x >= 68 and x <= 76:\n",
    "    return 'Boomers I'\n",
    "  elif x >= 77 and x <= 94:\n",
    "    return 'Post War Gen'\n",
    "  else:\n",
    "    return 'None'\n",
    "\n",
    "dental_office['patient_gen'] = dental_office['age'].apply(patient_gen)"
   ]
  },
  {
   "cell_type": "code",
   "execution_count": 23,
   "metadata": {
    "colab": {
     "base_uri": "https://localhost:8080/",
     "height": 277
    },
    "id": "5cIfH2F0ZM_H",
    "outputId": "a33b2768-8e15-43f8-c333-27c1f5dd135a"
   },
   "outputs": [
    {
     "data": {
      "image/png": "[encoded data removed]",
      "text/plain": [
       "<Figure size 864x360 with 2 Axes>"
      ]
     },
     "metadata": {
      "filenames": {
       "image/png": "/mnt/c/Users/LENOVO/Sync/portfolio-data/portfolio/_build/jupyter_execute/dental-office-analysis_32_0.png"
      },
      "needs_background": "light"
     },
     "output_type": "display_data"
    }
   ],
   "source": [
    "#Patients bar chart according to the generational group to which they belong.\n",
    "\n",
    "patient_gens = dental_office.groupby('patient_gen')[['counts']].sum()\n",
    "total_patient_gen = patient_gens.reset_index().rename(columns={'counts':'total'})\n",
    "percent_patient_gen = patient_gens.groupby(level=0).apply(lambda x:x/patient_gens.sum()*100).reset_index().rename(columns={'counts':'percentage'})\n",
    "\n",
    "fig,axes = plt.subplots(1,2,figsize=(12,5))\n",
    "axes[0].set_title('Total Patients per Generation')\n",
    "\n",
    "t = sns.barplot(ax=axes[0], data=total_patient_gen, x='patient_gen',y='total',palette='magma')\n",
    "plt.xticks(rotation=45)\n",
    "t.set_xlabel('Generations')\n",
    "t.set_ylabel('Freq Total')\n",
    "t.set_xticklabels(['Boomers I', 'Boomers II', 'Gen X', 'Gen Z', 'Millennials', 'None',\n",
    "       'Post War Gen'], rotation=45)\n",
    "\n",
    "axes[1].set_title('Percentage per Generation')\n",
    "\n",
    "p = sns.barplot(ax=axes[1], data=percent_patient_gen, x='patient_gen',y='percentage',palette='magma')\n",
    "p.set_xlabel('Generations')\n",
    "p.set_ylabel(\"Percentage\")\n",
    "p.set_xticklabels(['Boomers I', 'Boomers II', 'Gen X', 'Gen Z', 'Millennials', 'None',\n",
    "       'Post War Gen'], rotation=45)\n",
    "fig.tight_layout()\n",
    "percent_patient_gen\n",
    "plt.show()"
   ]
  },
  {
   "cell_type": "code",
   "execution_count": 24,
   "metadata": {
    "colab": {
     "base_uri": "https://localhost:8080/",
     "height": 332
    },
    "id": "InlJSVmzkJBv",
    "outputId": "2050740a-ebd5-489b-d103-3eadae0a4a4a"
   },
   "outputs": [
    {
     "data": {
      "text/html": [
       "<div>\n",
       "<style scoped>\n",
       "    .dataframe tbody tr th:only-of-type {\n",
       "        vertical-align: middle;\n",
       "    }\n",
       "\n",
       "    .dataframe tbody tr th {\n",
       "        vertical-align: top;\n",
       "    }\n",
       "\n",
       "    .dataframe thead tr th {\n",
       "        text-align: left;\n",
       "    }\n",
       "\n",
       "    .dataframe thead tr:last-of-type th {\n",
       "        text-align: right;\n",
       "    }\n",
       "</style>\n",
       "<table border=\"1\" class=\"dataframe\">\n",
       "  <thead>\n",
       "    <tr>\n",
       "      <th></th>\n",
       "      <th colspan=\"4\" halign=\"left\">counts</th>\n",
       "    </tr>\n",
       "    <tr>\n",
       "      <th>payment method</th>\n",
       "      <th>bold</th>\n",
       "      <th>daviplata</th>\n",
       "      <th>efectivo</th>\n",
       "      <th>nequi</th>\n",
       "    </tr>\n",
       "    <tr>\n",
       "      <th>patient_gen</th>\n",
       "      <th></th>\n",
       "      <th></th>\n",
       "      <th></th>\n",
       "      <th></th>\n",
       "    </tr>\n",
       "  </thead>\n",
       "  <tbody>\n",
       "    <tr>\n",
       "      <th>Boomers I</th>\n",
       "      <td>35.56%</td>\n",
       "      <td>0.00%</td>\n",
       "      <td>64.44%</td>\n",
       "      <td>0.00%</td>\n",
       "    </tr>\n",
       "    <tr>\n",
       "      <th>Boomers II</th>\n",
       "      <td>14.04%</td>\n",
       "      <td>0.00%</td>\n",
       "      <td>82.46%</td>\n",
       "      <td>3.51%</td>\n",
       "    </tr>\n",
       "    <tr>\n",
       "      <th>Gen X</th>\n",
       "      <td>8.72%</td>\n",
       "      <td>1.16%</td>\n",
       "      <td>85.47%</td>\n",
       "      <td>4.65%</td>\n",
       "    </tr>\n",
       "    <tr>\n",
       "      <th>Gen Z</th>\n",
       "      <td>3.37%</td>\n",
       "      <td>5.62%</td>\n",
       "      <td>85.39%</td>\n",
       "      <td>5.62%</td>\n",
       "    </tr>\n",
       "    <tr>\n",
       "      <th>Millennials</th>\n",
       "      <td>12.57%</td>\n",
       "      <td>2.73%</td>\n",
       "      <td>77.60%</td>\n",
       "      <td>7.10%</td>\n",
       "    </tr>\n",
       "    <tr>\n",
       "      <th>None</th>\n",
       "      <td>3.85%</td>\n",
       "      <td>3.85%</td>\n",
       "      <td>88.46%</td>\n",
       "      <td>3.85%</td>\n",
       "    </tr>\n",
       "    <tr>\n",
       "      <th>Post War Gen</th>\n",
       "      <td>0.00%</td>\n",
       "      <td>0.00%</td>\n",
       "      <td>100.00%</td>\n",
       "      <td>0.00%</td>\n",
       "    </tr>\n",
       "  </tbody>\n",
       "</table>\n",
       "</div>"
      ],
      "text/plain": [
       "               counts                         \n",
       "payment method   bold daviplata efectivo nequi\n",
       "patient_gen                                   \n",
       "Boomers I      35.56%     0.00%   64.44% 0.00%\n",
       "Boomers II     14.04%     0.00%   82.46% 3.51%\n",
       "Gen X           8.72%     1.16%   85.47% 4.65%\n",
       "Gen Z           3.37%     5.62%   85.39% 5.62%\n",
       "Millennials    12.57%     2.73%   77.60% 7.10%\n",
       "None            3.85%     3.85%   88.46% 3.85%\n",
       "Post War Gen    0.00%     0.00%  100.00% 0.00%"
      ]
     },
     "execution_count": 24,
     "metadata": {},
     "output_type": "execute_result"
    }
   ],
   "source": [
    "#Tabulate crossed data between generation and payment method\n",
    "\n",
    "pd.options.display.float_format = '{:.2f}%'.format\n",
    "non_common_methods = ['trans_bancolombia','trans_davivienda','otro']\n",
    "prefer_payment = dental_office[~dental_office['payment method'].isin(non_common_methods)]\n",
    "prefer_payment = prefer_payment.groupby(['patient_gen','payment method'])[['counts']].sum()\n",
    "prefer_payment = prefer_payment.groupby(level=0).apply(lambda x:x/x.sum()*100)\n",
    "prefer_payment.unstack('payment method').iloc[:,:4]"
   ]
  },
  {
   "cell_type": "code",
   "execution_count": 25,
   "metadata": {
    "colab": {
     "base_uri": "https://localhost:8080/",
     "height": 300
    },
    "id": "w88nuNgNXTpB",
    "outputId": "5cdb4c43-5861-4957-b980-208a4e2e7102"
   },
   "outputs": [
    {
     "data": {
      "text/html": [
       "<div>\n",
       "<style scoped>\n",
       "    .dataframe tbody tr th:only-of-type {\n",
       "        vertical-align: middle;\n",
       "    }\n",
       "\n",
       "    .dataframe tbody tr th {\n",
       "        vertical-align: top;\n",
       "    }\n",
       "\n",
       "    .dataframe thead th {\n",
       "        text-align: right;\n",
       "    }\n",
       "</style>\n",
       "<table border=\"1\" class=\"dataframe\">\n",
       "  <thead>\n",
       "    <tr style=\"text-align: right;\">\n",
       "      <th>occupation</th>\n",
       "      <th>ama de casa</th>\n",
       "      <th>desempleado</th>\n",
       "      <th>empleado</th>\n",
       "      <th>estudiante</th>\n",
       "      <th>independiente</th>\n",
       "    </tr>\n",
       "    <tr>\n",
       "      <th>patient_gen</th>\n",
       "      <th></th>\n",
       "      <th></th>\n",
       "      <th></th>\n",
       "      <th></th>\n",
       "      <th></th>\n",
       "    </tr>\n",
       "  </thead>\n",
       "  <tbody>\n",
       "    <tr>\n",
       "      <th>Boomers I</th>\n",
       "      <td>40.00%</td>\n",
       "      <td>8.89%</td>\n",
       "      <td>15.56%</td>\n",
       "      <td>2.22%</td>\n",
       "      <td>33.33%</td>\n",
       "    </tr>\n",
       "    <tr>\n",
       "      <th>Boomers II</th>\n",
       "      <td>24.56%</td>\n",
       "      <td>3.51%</td>\n",
       "      <td>29.82%</td>\n",
       "      <td>1.75%</td>\n",
       "      <td>40.35%</td>\n",
       "    </tr>\n",
       "    <tr>\n",
       "      <th>Gen X</th>\n",
       "      <td>8.72%</td>\n",
       "      <td>2.33%</td>\n",
       "      <td>36.05%</td>\n",
       "      <td>1.16%</td>\n",
       "      <td>51.74%</td>\n",
       "    </tr>\n",
       "    <tr>\n",
       "      <th>Gen Z</th>\n",
       "      <td>10.11%</td>\n",
       "      <td>2.25%</td>\n",
       "      <td>32.58%</td>\n",
       "      <td>40.45%</td>\n",
       "      <td>14.61%</td>\n",
       "    </tr>\n",
       "    <tr>\n",
       "      <th>Millennials</th>\n",
       "      <td>1.64%</td>\n",
       "      <td>3.28%</td>\n",
       "      <td>38.25%</td>\n",
       "      <td>3.83%</td>\n",
       "      <td>53.01%</td>\n",
       "    </tr>\n",
       "    <tr>\n",
       "      <th>None</th>\n",
       "      <td>0.00%</td>\n",
       "      <td>0.00%</td>\n",
       "      <td>11.54%</td>\n",
       "      <td>84.62%</td>\n",
       "      <td>3.85%</td>\n",
       "    </tr>\n",
       "    <tr>\n",
       "      <th>Post War Gen</th>\n",
       "      <td>12.50%</td>\n",
       "      <td>62.50%</td>\n",
       "      <td>0.00%</td>\n",
       "      <td>0.00%</td>\n",
       "      <td>25.00%</td>\n",
       "    </tr>\n",
       "  </tbody>\n",
       "</table>\n",
       "</div>"
      ],
      "text/plain": [
       "occupation    ama de casa  desempleado  empleado  estudiante  independiente\n",
       "patient_gen                                                                \n",
       "Boomers I          40.00%        8.89%    15.56%       2.22%         33.33%\n",
       "Boomers II         24.56%        3.51%    29.82%       1.75%         40.35%\n",
       "Gen X               8.72%        2.33%    36.05%       1.16%         51.74%\n",
       "Gen Z              10.11%        2.25%    32.58%      40.45%         14.61%\n",
       "Millennials         1.64%        3.28%    38.25%       3.83%         53.01%\n",
       "None                0.00%        0.00%    11.54%      84.62%          3.85%\n",
       "Post War Gen       12.50%       62.50%     0.00%       0.00%         25.00%"
      ]
     },
     "execution_count": 25,
     "metadata": {},
     "output_type": "execute_result"
    }
   ],
   "source": [
    "#Tabulate crossed data between generation and occupation\n",
    "pd.options.display.float_format = '{:.2f}%'.format\n",
    "non_common_methods = ['trans_bancolombia','trans_davivienda','otro']\n",
    "generation_payment = dental_office[~dental_office['payment method'].isin(non_common_methods)]\n",
    "generation_payment = generation_payment.groupby(['patient_gen','occupation'])['counts'].sum()\n",
    "generation_payment.groupby(level=0).apply(lambda x:x/x.sum()*100).unstack('occupation')"
   ]
  },
  {
   "cell_type": "code",
   "execution_count": 26,
   "metadata": {
    "colab": {
     "base_uri": "https://localhost:8080/",
     "height": 269
    },
    "id": "qvk8MnoZMYUK",
    "outputId": "eb16394d-5eeb-45fe-917d-202e268f5df3"
   },
   "outputs": [
    {
     "data": {
      "text/html": [
       "<div>\n",
       "<style scoped>\n",
       "    .dataframe tbody tr th:only-of-type {\n",
       "        vertical-align: middle;\n",
       "    }\n",
       "\n",
       "    .dataframe tbody tr th {\n",
       "        vertical-align: top;\n",
       "    }\n",
       "\n",
       "    .dataframe thead tr th {\n",
       "        text-align: left;\n",
       "    }\n",
       "\n",
       "    .dataframe thead tr:last-of-type th {\n",
       "        text-align: right;\n",
       "    }\n",
       "</style>\n",
       "<table border=\"1\" class=\"dataframe\">\n",
       "  <thead>\n",
       "    <tr>\n",
       "      <th></th>\n",
       "      <th colspan=\"4\" halign=\"left\">counts</th>\n",
       "    </tr>\n",
       "    <tr>\n",
       "      <th>payment method</th>\n",
       "      <th>bold</th>\n",
       "      <th>daviplata</th>\n",
       "      <th>efectivo</th>\n",
       "      <th>nequi</th>\n",
       "    </tr>\n",
       "    <tr>\n",
       "      <th>occupation</th>\n",
       "      <th></th>\n",
       "      <th></th>\n",
       "      <th></th>\n",
       "      <th></th>\n",
       "    </tr>\n",
       "  </thead>\n",
       "  <tbody>\n",
       "    <tr>\n",
       "      <th>ama de casa</th>\n",
       "      <td>15.00%</td>\n",
       "      <td>0.00%</td>\n",
       "      <td>83.33%</td>\n",
       "      <td>1.67%</td>\n",
       "    </tr>\n",
       "    <tr>\n",
       "      <th>desempleado</th>\n",
       "      <td>8.70%</td>\n",
       "      <td>0.00%</td>\n",
       "      <td>82.61%</td>\n",
       "      <td>8.70%</td>\n",
       "    </tr>\n",
       "    <tr>\n",
       "      <th>empleado</th>\n",
       "      <td>10.64%</td>\n",
       "      <td>5.32%</td>\n",
       "      <td>82.45%</td>\n",
       "      <td>1.60%</td>\n",
       "    </tr>\n",
       "    <tr>\n",
       "      <th>estudiante</th>\n",
       "      <td>5.80%</td>\n",
       "      <td>2.90%</td>\n",
       "      <td>84.06%</td>\n",
       "      <td>7.25%</td>\n",
       "    </tr>\n",
       "    <tr>\n",
       "      <th>independiente</th>\n",
       "      <td>12.92%</td>\n",
       "      <td>0.42%</td>\n",
       "      <td>79.17%</td>\n",
       "      <td>7.50%</td>\n",
       "    </tr>\n",
       "  </tbody>\n",
       "</table>\n",
       "</div>"
      ],
      "text/plain": [
       "               counts                         \n",
       "payment method   bold daviplata efectivo nequi\n",
       "occupation                                    \n",
       "ama de casa    15.00%     0.00%   83.33% 1.67%\n",
       "desempleado     8.70%     0.00%   82.61% 8.70%\n",
       "empleado       10.64%     5.32%   82.45% 1.60%\n",
       "estudiante      5.80%     2.90%   84.06% 7.25%\n",
       "independiente  12.92%     0.42%   79.17% 7.50%"
      ]
     },
     "execution_count": 26,
     "metadata": {},
     "output_type": "execute_result"
    }
   ],
   "source": [
    "#Prefered payment methods groupped by occupation \n",
    "non_common_methods = ['trans_bancolombia','trans_davivienda','otro']\n",
    "p_payment = dental_office[~dental_office['payment method'].isin(non_common_methods)]\n",
    "p_payment = p_payment.groupby(['occupation','payment method'])[['counts']].sum()\n",
    "p_payment = p_payment.groupby(level=0).apply(lambda x : x / x.sum()*100)\n",
    "p_payment.unstack('payment method').iloc[:,:4]"
   ]
  },
  {
   "cell_type": "markdown",
   "metadata": {
    "id": "pq7s4AbjiodB"
   },
   "source": [
    "## Revenue analysis over time series\n",
    "\n",
    "An analysis of an income statement is normally made up of sales income, administrative expenses, operational costs, among others, in order to analyze net profit. However, for this case study we will only consider sales revenue without any deductions.\n",
    "\n",
    "-The best way to analyze income regarding series series is from the mobile sock method, as shown in the graphic `Expenditure analysis per sex` the trend is clearer to create 30 -rows windows for a daily frequency for a daily frequency. This makes it possible to avoid negative spikes on days where there was no revenue.\n",
    "- The categorization of income can be carried out with respect to different population groups. However, it will only be done with respect to gender and occupation.\n",
    "-Men are the demographic group that are carried out less dental treatments. The downward trend in the last 2 years is worrisome, so it is suggested to perform a detailed analysis regarding this deficit of men.\n",
    "- The categorization by occupation reflects that there is a greater fluctuation in the group of independent workers than in the group of employees, being the employees, the ones who have allowed the growth of the dental practice income."
   ]
  },
  {
   "cell_type": "code",
   "execution_count": 27,
   "metadata": {
    "colab": {
     "base_uri": "https://localhost:8080/",
     "height": 363
    },
    "id": "ifTWIt7FAwQS",
    "outputId": "81ab4362-f5db-4876-f9e7-c2d82bc96669"
   },
   "outputs": [
    {
     "data": {
      "image/png": "[encoded data removed]",
      "text/plain": [
       "<Figure size 1080x576 with 1 Axes>"
      ]
     },
     "metadata": {
      "filenames": {
       "image/png": "/mnt/c/Users/LENOVO/Sync/portfolio-data/portfolio/_build/jupyter_execute/dental-office-analysis_37_0.png"
      },
      "needs_background": "light"
     },
     "output_type": "display_data"
    }
   ],
   "source": [
    "#Business income groupped by gender\n",
    "dental_office['women_exp'] = dental_office[dental_office['genre'] == 'femenino']['cost']\n",
    "dental_office['men_exp'] = dental_office[dental_office['genre'] == 'masculino']['cost']\n",
    "date_analysis_D = dental_office.groupby(pd.Grouper(key='appointment day', freq='D'))[['cost','women_exp','men_exp']].sum()\n",
    "sales_total = date_analysis_D.rolling(30).mean()\n",
    "fig = plt.figure(figsize=(15,8))\n",
    "sale_to = sns.lineplot(data=sales_total)\n",
    "sale_to.set_title('Expenditure Analysis per Sex',fontsize=20)\n",
    "sale_to.set_xlabel('Period of Time')\n",
    "sale_to.set_ylabel('Moving Avg 30 Days(Amount)')\n",
    "plt.show()"
   ]
  },
  {
   "cell_type": "code",
   "execution_count": 28,
   "metadata": {
    "colab": {
     "base_uri": "https://localhost:8080/",
     "height": 344
    },
    "id": "6pShLxcvE1R3",
    "outputId": "1e06d2a1-5728-4652-c110-35d846fcfef9"
   },
   "outputs": [
    {
     "data": {
      "image/png": "[encoded data removed]",
      "text/plain": [
       "<Figure size 1080x576 with 1 Axes>"
      ]
     },
     "metadata": {
      "filenames": {
       "image/png": "/mnt/c/Users/LENOVO/Sync/portfolio-data/portfolio/_build/jupyter_execute/dental-office-analysis_38_0.png"
      },
      "needs_background": "light"
     },
     "output_type": "display_data"
    }
   ],
   "source": [
    "#Business income groupped by patient occupation\n",
    "from matplotlib.lines import Line2D\n",
    "from matplotlib import rcParams, cycler\n",
    "cmap = plt.cm.coolwarm\n",
    "custom_lines = [Line2D([0], [0], color=cmap(1.), lw=4),\n",
    "                Line2D([0], [0], color=cmap(.8), lw=4),\n",
    "                Line2D([0], [0], color=cmap(0.6), lw=4),\n",
    "                Line2D([0], [0], color=cmap(0.2), lw=4),\n",
    "                Line2D([0], [0], color=cmap(.0), lw=4)]\n",
    "\n",
    "rcParams['axes.prop_cycle'] = cycler(color=cmap(np.linspace(0, 1, 5)))\n",
    "\n",
    "\n",
    "dental_office['student_exp'] = dental_office[dental_office['occupation'] == 'estudiante']['cost']\n",
    "dental_office['employee_exp'] = dental_office[dental_office['occupation'] == 'empleado']['cost']\n",
    "dental_office['hkeeper_exp'] = dental_office[dental_office['occupation'] == 'ama de casa']['cost']\n",
    "dental_office['ind_exp'] = dental_office[dental_office['occupation'] == 'independiente']['cost']\n",
    "dental_office['unemployee_exp'] = dental_office[dental_office['occupation'] == 'desempleado']['cost']\n",
    "\n",
    "date_analysis_occupation = dental_office.groupby(pd.Grouper(key='appointment day', freq='D'))[['student_exp','employee_exp','hkeeper_exp','ind_exp','unemployee_exp']].sum()\n",
    "sales_occupation = date_analysis_occupation.rolling(30).mean()\n",
    "\n",
    "fig, ax = plt.subplots(figsize=(15, 8))\n",
    "lines = ax.plot(sales_occupation)\n",
    "\n",
    "sale_to.set_title('Expenditure Analysis per Occupation',fontsize=20)\n",
    "sale_to.set_xlabel('Period of Time')\n",
    "sale_to.set_ylabel('Moving Avg 30 Day(Amount)')\n",
    "ax.legend(custom_lines, ['student_exp', 'employee_exp', 'hkeeper_exp','ind_exp','unemployee_exp']);\n",
    "plt.show()\n",
    "\n"
   ]
  },
  {
   "cell_type": "code",
   "execution_count": 29,
   "metadata": {
    "colab": {
     "base_uri": "https://localhost:8080/",
     "height": 288
    },
    "id": "HVqcyjHHGHuh",
    "outputId": "8064d363-92b0-47ac-f215-52b60b7f44c7"
   },
   "outputs": [
    {
     "data": {
      "image/png": "[encoded data removed]",
      "text/plain": [
       "<Figure size 432x288 with 1 Axes>"
      ]
     },
     "metadata": {
      "filenames": {
       "image/png": "/mnt/c/Users/LENOVO/Sync/portfolio-data/portfolio/_build/jupyter_execute/dental-office-analysis_39_0.png"
      },
      "needs_background": "light"
     },
     "output_type": "display_data"
    }
   ],
   "source": [
    "#Business income groupped by gender time series per year\n",
    "pd.options.display.float_format = '{:.0f}'.format\n",
    "months = [\"Jan\", \"Feb\", \"Mar\", \"Apr\", \"May\", \"Jun\",\"Jul\", \"Aug\", \"Sep\", \"Oct\", \"Nov\", \"Dec\"]\n",
    "dental_office['year'] = dental_office['appointment day'].dt.year\n",
    "dental_office['month'] = dental_office['appointment day'].dt.month\n",
    "#dental_office['month'] = pd.to_datetime(dental_office['appointment day'], format='%m').dt.month_name()\n",
    "revenue = dental_office.groupby(['year','month'])[['cost']].sum()\n",
    "revenue_2021 = revenue.xs(2021,level=0).rename(columns={'cost':'revenue 2021'})\n",
    "revenue_2022 = revenue.xs(2022,level=0).rename(columns={'cost':'revenue 2022'})\n",
    "revenue_year = pd.concat([revenue_2021,revenue_2022],axis=1).reset_index()\n",
    "revenue_year['month'] = pd.Categorical(revenue_year['month'].apply(str))\n",
    "revenue_year.plot.bar(stacked=False,width=1.0)\n",
    "plt.xticks(np.arange(12),months, rotation=45)\n",
    "plt.show()"
   ]
  },
  {
   "cell_type": "markdown",
   "metadata": {
    "id": "AhewZsMNqa3l"
   },
   "source": [
    " ## Conclusions\n",
    "\n",
    "1. The case of study includes real data that contains sensitive information and that compromises the safety of patients, for this reason you will not be able to access the data if you try to access the server later on.\n",
    "2. Understanding the categorical variables as population groups, it could be interesting to make a cross-union between the largest number of groups to analyze more in detail sales in detailed cases, such as sales income given by self-employed women who belongs to generation X and use dental floss properly.\n",
    "3. The dental office should look forward to better communication channels that allow us to increase men's interest in oral health. Identify the possible reasons why this population hardly has access or interest to dental treatments."
   ]
  }
 ],
 "metadata": {
  "colab": {
   "collapsed_sections": [],
   "name": "DentalOffice.ipynb",
   "provenance": []
  },
  "kernelspec": {
   "display_name": "Python 3 (ipykernel)",
   "language": "python",
   "name": "python3"
  },
  "language_info": {
   "codemirror_mode": {
    "name": "ipython",
    "version": 3
   },
   "file_extension": ".py",
   "mimetype": "text/x-python",
   "name": "python",
   "nbconvert_exporter": "python",
   "pygments_lexer": "ipython3",
   "version": "3.9.7"
  }
 },
 "nbformat": 4,
 "nbformat_minor": 1
}